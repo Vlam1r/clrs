{
 "cells": [
  {
   "cell_type": "markdown",
   "source": [
    "```\n",
    "python -m clrs.examples.run --dataset_path ./  --seed 42 --algorithms bellman_ford --processor_type pgn \\\n",
    "--train_steps 30000\n",
    "```"
   ],
   "metadata": {
    "collapsed": false
   }
  },
  {
   "cell_type": "code",
   "execution_count": 24,
   "metadata": {
    "collapsed": true
   },
   "outputs": [
    {
     "name": "stdout",
     "output_type": "stream",
     "text": [
      "^C\n"
     ]
    }
   ],
   "source": [
    "!python ../clrs/examples/run.py --dataset_path ./  --seed 42 --algorithms bellman_ford --processor_type pgn"
   ]
  },
  {
   "cell_type": "code",
   "execution_count": 26,
   "outputs": [],
   "source": [
    "import pickle\n",
    "\n",
    "\n",
    "def load(x):\n",
    "    with open(x, 'rb') as file:\n",
    "        return pickle.load(file)\n",
    "\n",
    "inputs = load('../inputs.pkl')\n",
    "trajs = load('../trajs.pkl')"
   ],
   "metadata": {
    "collapsed": false
   }
  },
  {
   "cell_type": "code",
   "execution_count": 27,
   "outputs": [
    {
     "data": {
      "text/plain": "(64, 16, 5, 128)"
     },
     "execution_count": 27,
     "metadata": {},
     "output_type": "execute_result"
    }
   ],
   "source": [
    "trajs.shape"
   ],
   "metadata": {
    "collapsed": false
   }
  },
  {
   "cell_type": "code",
   "execution_count": 28,
   "outputs": [
    {
     "data": {
      "text/plain": "DeviceArray([-1.6557605, -1.5932046, -1.6931547, -1.7310978, -1.6501403,\n             -1.6457598, -1.7894454, -1.7673917, -1.6098397, -1.748081 ,\n             -1.7894454, -1.6178389, -1.7834839, -1.6652265, -1.7714472,\n             -1.6835588, -1.7673917, -1.61523  , -1.7534465, -1.595211 ,\n             -1.6879829, -1.6557605, -1.5890244, -1.599178 , -1.679308 ,\n             -1.7673917, -1.7042246, -1.679308 , -1.7714472, -1.6576935,\n             -1.6125741, -1.632054 , -1.5844883, -1.6272799, -1.7534465,\n             -1.5890244, -1.679308 , -1.5844883, -1.6381187, -1.7834839,\n             -1.661515 , -1.5890244, -1.661515 , -1.7753644, -1.748081 ,\n             -1.6501403, -1.7790179, -1.6931547, -1.652053 , -1.5890244,\n             -1.6178389, -1.586748 , -1.6879829, -1.6481127, -1.7257463,\n             -1.7954861, -1.6557605, -1.7365466, -1.61523  , -1.763004 ,\n             -1.748081 , -1.6433073, -1.661515 , -1.7257463],            dtype=float32)"
     },
     "execution_count": 28,
     "metadata": {},
     "output_type": "execute_result"
    }
   ],
   "source": [
    "trajs[:,0,4,3]"
   ],
   "metadata": {
    "collapsed": false
   }
  },
  {
   "cell_type": "code",
   "execution_count": null,
   "outputs": [],
   "source": [],
   "metadata": {
    "collapsed": false
   }
  }
 ],
 "metadata": {
  "kernelspec": {
   "display_name": "Python 3",
   "language": "python",
   "name": "python3"
  },
  "language_info": {
   "codemirror_mode": {
    "name": "ipython",
    "version": 2
   },
   "file_extension": ".py",
   "mimetype": "text/x-python",
   "name": "python",
   "nbconvert_exporter": "python",
   "pygments_lexer": "ipython2",
   "version": "2.7.6"
  }
 },
 "nbformat": 4,
 "nbformat_minor": 0
}
